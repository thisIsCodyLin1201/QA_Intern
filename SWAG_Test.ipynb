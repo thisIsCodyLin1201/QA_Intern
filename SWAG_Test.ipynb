{
 "cells": [
  {
   "cell_type": "code",
   "execution_count": 1,
   "metadata": {},
   "outputs": [
    {
     "name": "stdout",
     "output_type": "stream",
     "text": [
      "Collecting selenium\n",
      "  Downloading selenium-4.29.0-py3-none-any.whl (9.5 MB)\n",
      "Requirement already satisfied: certifi>=2021.10.8 in c:\\users\\cody9\\anaconda3\\lib\\site-packages (from selenium) (2021.10.8)\n",
      "Collecting typing_extensions~=4.9\n",
      "  Using cached typing_extensions-4.12.2-py3-none-any.whl (37 kB)\n",
      "Requirement already satisfied: urllib3[socks]<3,>=1.26 in c:\\users\\cody9\\anaconda3\\lib\\site-packages (from selenium) (1.26.9)\n",
      "Collecting trio-websocket~=0.9\n",
      "  Downloading trio_websocket-0.12.2-py3-none-any.whl (21 kB)\n",
      "Collecting websocket-client~=1.8\n",
      "  Downloading websocket_client-1.8.0-py3-none-any.whl (58 kB)\n",
      "Collecting trio~=0.17\n",
      "  Downloading trio-0.29.0-py3-none-any.whl (492 kB)\n",
      "Requirement already satisfied: cffi>=1.14 in c:\\users\\cody9\\anaconda3\\lib\\site-packages (from trio~=0.17->selenium) (1.15.0)\n",
      "Requirement already satisfied: sortedcontainers in c:\\users\\cody9\\anaconda3\\lib\\site-packages (from trio~=0.17->selenium) (2.4.0)\n",
      "Collecting attrs>=23.2.0\n",
      "  Downloading attrs-25.2.0-py3-none-any.whl (64 kB)\n",
      "Collecting sniffio>=1.3.0\n",
      "  Using cached sniffio-1.3.1-py3-none-any.whl (10 kB)\n",
      "Collecting exceptiongroup\n",
      "  Using cached exceptiongroup-1.2.2-py3-none-any.whl (16 kB)\n",
      "Requirement already satisfied: idna in c:\\users\\cody9\\anaconda3\\lib\\site-packages (from trio~=0.17->selenium) (3.3)\n",
      "Collecting outcome\n",
      "  Downloading outcome-1.3.0.post0-py2.py3-none-any.whl (10 kB)\n",
      "Requirement already satisfied: pycparser in c:\\users\\cody9\\anaconda3\\lib\\site-packages (from cffi>=1.14->trio~=0.17->selenium) (2.21)\n",
      "Collecting wsproto>=0.14\n",
      "  Downloading wsproto-1.2.0-py3-none-any.whl (24 kB)\n",
      "Requirement already satisfied: PySocks!=1.5.7,<2.0,>=1.5.6 in c:\\users\\cody9\\anaconda3\\lib\\site-packages (from urllib3[socks]<3,>=1.26->selenium) (1.7.1)\n",
      "Collecting h11<1,>=0.9.0\n",
      "  Using cached h11-0.14.0-py3-none-any.whl (58 kB)\n",
      "Installing collected packages: attrs, sniffio, outcome, h11, exceptiongroup, wsproto, trio, websocket-client, typing-extensions, trio-websocket, selenium\n",
      "  Attempting uninstall: attrs\n",
      "    Found existing installation: attrs 21.4.0\n",
      "    Uninstalling attrs-21.4.0:\n",
      "      Successfully uninstalled attrs-21.4.0\n",
      "  Attempting uninstall: sniffio\n",
      "    Found existing installation: sniffio 1.2.0\n",
      "    Uninstalling sniffio-1.2.0:\n",
      "      Successfully uninstalled sniffio-1.2.0\n",
      "  Attempting uninstall: websocket-client\n",
      "    Found existing installation: websocket-client 0.58.0\n",
      "    Uninstalling websocket-client-0.58.0:\n",
      "      Successfully uninstalled websocket-client-0.58.0\n",
      "  Attempting uninstall: typing-extensions\n",
      "    Found existing installation: typing-extensions 4.1.1\n",
      "    Uninstalling typing-extensions-4.1.1:\n",
      "      Successfully uninstalled typing-extensions-4.1.1\n",
      "Successfully installed attrs-25.2.0 exceptiongroup-1.2.2 h11-0.14.0 outcome-1.3.0.post0 selenium-4.29.0 sniffio-1.3.1 trio-0.29.0 trio-websocket-0.12.2 typing-extensions-4.12.2 websocket-client-1.8.0 wsproto-1.2.0\n",
      "Note: you may need to restart the kernel to use updated packages.\n"
     ]
    },
    {
     "name": "stderr",
     "output_type": "stream",
     "text": [
      "ERROR: pip's dependency resolver does not currently take into account all the packages that are installed. This behaviour is the source of the following dependency conflicts.\n",
      "jupyter-server 1.13.5 requires pywinpty<2; os_name == \"nt\", but you have pywinpty 2.0.2 which is incompatible.\n"
     ]
    }
   ],
   "source": [
    "%pip install selenium"
   ]
  },
  {
   "cell_type": "code",
   "execution_count": 1,
   "metadata": {},
   "outputs": [],
   "source": [
    "from selenium import webdriver\n",
    "from selenium.webdriver.common.by import By\n",
    "from selenium.webdriver.common.keys import Keys\n",
    "import time"
   ]
  },
  {
   "cell_type": "code",
   "execution_count": 2,
   "metadata": {},
   "outputs": [
    {
     "ename": "NoSuchElementException",
     "evalue": "Message: no such element: Unable to locate element: {\"method\":\"xpath\",\"selector\":\"//input[@type='email']\"}\n  (Session info: chrome=134.0.6998.88); For documentation on this error, please visit: https://www.selenium.dev/documentation/webdriver/troubleshooting/errors#no-such-element-exception\nStacktrace:\n\tGetHandleVerifier [0x00007FF7F014FE45+26629]\n\t(No symbol) [0x00007FF7F00B6010]\n\t(No symbol) [0x00007FF7EFF4931A]\n\t(No symbol) [0x00007FF7EFF9F8E7]\n\t(No symbol) [0x00007FF7EFF9FB1C]\n\t(No symbol) [0x00007FF7EFFF34A7]\n\t(No symbol) [0x00007FF7EFFC7AEF]\n\t(No symbol) [0x00007FF7EFFF0169]\n\t(No symbol) [0x00007FF7EFFC7883]\n\t(No symbol) [0x00007FF7EFF90550]\n\t(No symbol) [0x00007FF7EFF91803]\n\tGetHandleVerifier [0x00007FF7F04A72BD+3529853]\n\tGetHandleVerifier [0x00007FF7F04BDA22+3621858]\n\tGetHandleVerifier [0x00007FF7F04B24D3+3575443]\n\tGetHandleVerifier [0x00007FF7F021B77A+860474]\n\t(No symbol) [0x00007FF7F00C088F]\n\t(No symbol) [0x00007FF7F00BCBC4]\n\t(No symbol) [0x00007FF7F00BCD66]\n\t(No symbol) [0x00007FF7F00AC2C9]\n\tBaseThreadInitThunk [0x00007FFF568B259D+29]\n\tRtlUserThreadStart [0x00007FFF575EAF38+40]\n",
     "output_type": "error",
     "traceback": [
      "\u001b[1;31m---------------------------------------------------------------------------\u001b[0m",
      "\u001b[1;31mNoSuchElementException\u001b[0m                    Traceback (most recent call last)",
      "Input \u001b[1;32mIn [2]\u001b[0m, in \u001b[0;36m<cell line: 11>\u001b[1;34m()\u001b[0m\n\u001b[0;32m      8\u001b[0m time\u001b[38;5;241m.\u001b[39msleep(\u001b[38;5;241m3\u001b[39m)\n\u001b[0;32m     10\u001b[0m \u001b[38;5;66;03m# 定位帳號輸入框\u001b[39;00m\n\u001b[1;32m---> 11\u001b[0m email_input \u001b[38;5;241m=\u001b[39m \u001b[43mdriver\u001b[49m\u001b[38;5;241;43m.\u001b[39;49m\u001b[43mfind_element\u001b[49m\u001b[43m(\u001b[49m\u001b[43mBy\u001b[49m\u001b[38;5;241;43m.\u001b[39;49m\u001b[43mXPATH\u001b[49m\u001b[43m,\u001b[49m\u001b[43m \u001b[49m\u001b[38;5;124;43m\"\u001b[39;49m\u001b[38;5;124;43m//input[@type=\u001b[39;49m\u001b[38;5;124;43m'\u001b[39;49m\u001b[38;5;124;43memail\u001b[39;49m\u001b[38;5;124;43m'\u001b[39;49m\u001b[38;5;124;43m]\u001b[39;49m\u001b[38;5;124;43m\"\u001b[39;49m\u001b[43m)\u001b[49m\n\u001b[0;32m     12\u001b[0m email_input\u001b[38;5;241m.\u001b[39msend_keys(\u001b[38;5;124m\"\u001b[39m\u001b[38;5;124mcody20031201.com\u001b[39m\u001b[38;5;124m\"\u001b[39m)  \u001b[38;5;66;03m# 測試帳號\u001b[39;00m\n\u001b[0;32m     14\u001b[0m \u001b[38;5;66;03m# 定位密碼輸入框\u001b[39;00m\n",
      "File \u001b[1;32mc:\\Users\\cody9\\anaconda3\\lib\\site-packages\\selenium\\webdriver\\remote\\webdriver.py:898\u001b[0m, in \u001b[0;36mWebDriver.find_element\u001b[1;34m(self, by, value)\u001b[0m\n\u001b[0;32m    895\u001b[0m         \u001b[38;5;28;01mraise\u001b[39;00m NoSuchElementException(\u001b[38;5;124mf\u001b[39m\u001b[38;5;124m\"\u001b[39m\u001b[38;5;124mCannot locate relative element with: \u001b[39m\u001b[38;5;132;01m{\u001b[39;00mby\u001b[38;5;241m.\u001b[39mroot\u001b[38;5;132;01m}\u001b[39;00m\u001b[38;5;124m\"\u001b[39m)\n\u001b[0;32m    896\u001b[0m     \u001b[38;5;28;01mreturn\u001b[39;00m elements[\u001b[38;5;241m0\u001b[39m]\n\u001b[1;32m--> 898\u001b[0m \u001b[38;5;28;01mreturn\u001b[39;00m \u001b[38;5;28;43mself\u001b[39;49m\u001b[38;5;241;43m.\u001b[39;49m\u001b[43mexecute\u001b[49m\u001b[43m(\u001b[49m\u001b[43mCommand\u001b[49m\u001b[38;5;241;43m.\u001b[39;49m\u001b[43mFIND_ELEMENT\u001b[49m\u001b[43m,\u001b[49m\u001b[43m \u001b[49m\u001b[43m{\u001b[49m\u001b[38;5;124;43m\"\u001b[39;49m\u001b[38;5;124;43musing\u001b[39;49m\u001b[38;5;124;43m\"\u001b[39;49m\u001b[43m:\u001b[49m\u001b[43m \u001b[49m\u001b[43mby\u001b[49m\u001b[43m,\u001b[49m\u001b[43m \u001b[49m\u001b[38;5;124;43m\"\u001b[39;49m\u001b[38;5;124;43mvalue\u001b[39;49m\u001b[38;5;124;43m\"\u001b[39;49m\u001b[43m:\u001b[49m\u001b[43m \u001b[49m\u001b[43mvalue\u001b[49m\u001b[43m}\u001b[49m\u001b[43m)\u001b[49m[\u001b[38;5;124m\"\u001b[39m\u001b[38;5;124mvalue\u001b[39m\u001b[38;5;124m\"\u001b[39m]\n",
      "File \u001b[1;32mc:\\Users\\cody9\\anaconda3\\lib\\site-packages\\selenium\\webdriver\\remote\\webdriver.py:429\u001b[0m, in \u001b[0;36mWebDriver.execute\u001b[1;34m(self, driver_command, params)\u001b[0m\n\u001b[0;32m    427\u001b[0m response \u001b[38;5;241m=\u001b[39m \u001b[38;5;28mself\u001b[39m\u001b[38;5;241m.\u001b[39mcommand_executor\u001b[38;5;241m.\u001b[39mexecute(driver_command, params)\n\u001b[0;32m    428\u001b[0m \u001b[38;5;28;01mif\u001b[39;00m response:\n\u001b[1;32m--> 429\u001b[0m     \u001b[38;5;28;43mself\u001b[39;49m\u001b[38;5;241;43m.\u001b[39;49m\u001b[43merror_handler\u001b[49m\u001b[38;5;241;43m.\u001b[39;49m\u001b[43mcheck_response\u001b[49m\u001b[43m(\u001b[49m\u001b[43mresponse\u001b[49m\u001b[43m)\u001b[49m\n\u001b[0;32m    430\u001b[0m     response[\u001b[38;5;124m\"\u001b[39m\u001b[38;5;124mvalue\u001b[39m\u001b[38;5;124m\"\u001b[39m] \u001b[38;5;241m=\u001b[39m \u001b[38;5;28mself\u001b[39m\u001b[38;5;241m.\u001b[39m_unwrap_value(response\u001b[38;5;241m.\u001b[39mget(\u001b[38;5;124m\"\u001b[39m\u001b[38;5;124mvalue\u001b[39m\u001b[38;5;124m\"\u001b[39m, \u001b[38;5;28;01mNone\u001b[39;00m))\n\u001b[0;32m    431\u001b[0m     \u001b[38;5;28;01mreturn\u001b[39;00m response\n",
      "File \u001b[1;32mc:\\Users\\cody9\\anaconda3\\lib\\site-packages\\selenium\\webdriver\\remote\\errorhandler.py:232\u001b[0m, in \u001b[0;36mErrorHandler.check_response\u001b[1;34m(self, response)\u001b[0m\n\u001b[0;32m    230\u001b[0m         alert_text \u001b[38;5;241m=\u001b[39m value[\u001b[38;5;124m\"\u001b[39m\u001b[38;5;124malert\u001b[39m\u001b[38;5;124m\"\u001b[39m]\u001b[38;5;241m.\u001b[39mget(\u001b[38;5;124m\"\u001b[39m\u001b[38;5;124mtext\u001b[39m\u001b[38;5;124m\"\u001b[39m)\n\u001b[0;32m    231\u001b[0m     \u001b[38;5;28;01mraise\u001b[39;00m exception_class(message, screen, stacktrace, alert_text)  \u001b[38;5;66;03m# type: ignore[call-arg]  # mypy is not smart enough here\u001b[39;00m\n\u001b[1;32m--> 232\u001b[0m \u001b[38;5;28;01mraise\u001b[39;00m exception_class(message, screen, stacktrace)\n",
      "\u001b[1;31mNoSuchElementException\u001b[0m: Message: no such element: Unable to locate element: {\"method\":\"xpath\",\"selector\":\"//input[@type='email']\"}\n  (Session info: chrome=134.0.6998.88); For documentation on this error, please visit: https://www.selenium.dev/documentation/webdriver/troubleshooting/errors#no-such-element-exception\nStacktrace:\n\tGetHandleVerifier [0x00007FF7F014FE45+26629]\n\t(No symbol) [0x00007FF7F00B6010]\n\t(No symbol) [0x00007FF7EFF4931A]\n\t(No symbol) [0x00007FF7EFF9F8E7]\n\t(No symbol) [0x00007FF7EFF9FB1C]\n\t(No symbol) [0x00007FF7EFFF34A7]\n\t(No symbol) [0x00007FF7EFFC7AEF]\n\t(No symbol) [0x00007FF7EFFF0169]\n\t(No symbol) [0x00007FF7EFFC7883]\n\t(No symbol) [0x00007FF7EFF90550]\n\t(No symbol) [0x00007FF7EFF91803]\n\tGetHandleVerifier [0x00007FF7F04A72BD+3529853]\n\tGetHandleVerifier [0x00007FF7F04BDA22+3621858]\n\tGetHandleVerifier [0x00007FF7F04B24D3+3575443]\n\tGetHandleVerifier [0x00007FF7F021B77A+860474]\n\t(No symbol) [0x00007FF7F00C088F]\n\t(No symbol) [0x00007FF7F00BCBC4]\n\t(No symbol) [0x00007FF7F00BCD66]\n\t(No symbol) [0x00007FF7F00AC2C9]\n\tBaseThreadInitThunk [0x00007FFF568B259D+29]\n\tRtlUserThreadStart [0x00007FFF575EAF38+40]\n"
     ]
    }
   ],
   "source": [
    "# 設定 WebDriver（請確保已下載對應瀏覽器的 WebDriver）\n",
    "driver = webdriver.Chrome()\n",
    "\n",
    "# 打開 SWAG 登入頁面\n",
    "driver.get(\"https://swag.live/?lang=zh-TW\")\n",
    "\n",
    "# 等待頁面加載\n",
    "time.sleep(3)\n",
    "\n",
    "# 定位帳號輸入框\n",
    "email_input = driver.find_element(By.XPATH, \"//input[@type='email']\")\n",
    "email_input.send_keys(\"cody20031201.com\")  # 測試帳號\n",
    "\n",
    "# 定位密碼輸入框\n",
    "password_input = driver.find_element(By.XPATH, \"//input[@type='password']\")\n",
    "password_input.send_keys(\"cody1201\")  # 測試密碼\n",
    "\n",
    "# 點擊登入按鈕\n",
    "login_button = driver.find_element(By.XPATH, \"//button[contains(text(),'登入')]\")\n",
    "login_button.click()\n",
    "\n",
    "# 等待登入處理\n",
    "time.sleep(5)\n",
    "\n",
    "# 驗證是否成功登入\n",
    "try:\n",
    "    success_element = driver.find_element(By.XPATH, \"//div[contains(text(),'歡迎回來')]\")\n",
    "    print(\"登入成功測試：通過 ✅\")\n",
    "except:\n",
    "    print(\"登入成功測試：失敗 ❌\")\n",
    "\n",
    "# 測試錯誤密碼\n",
    "email_input.clear()\n",
    "password_input.clear()\n",
    "email_input.send_keys(\"testuser@example.com\")\n",
    "password_input.send_keys(\"WrongPassword\")\n",
    "\n",
    "login_button.click()\n",
    "time.sleep(3)\n",
    "\n",
    "# 驗證錯誤密碼提示\n",
    "try:\n",
    "    error_message = driver.find_element(By.XPATH, \"//div[contains(text(),'密碼錯誤')]\")\n",
    "    print(\"錯誤密碼測試：通過 ✅\")\n",
    "except:\n",
    "    print(\"錯誤密碼測試：失敗 ❌\")\n",
    "\n",
    "# 測試帳號不存在\n",
    "email_input.clear()\n",
    "password_input.clear()\n",
    "email_input.send_keys(\"notexist@example.com\")\n",
    "password_input.send_keys(\"RandomPass123\")\n",
    "\n",
    "login_button.click()\n",
    "time.sleep(3)\n",
    "\n",
    "# 驗證帳號不存在提示\n",
    "try:\n",
    "    error_message = driver.find_element(By.XPATH, \"//div[contains(text(),'帳號不存在')]\")\n",
    "    print(\"帳號不存在測試：通過 ✅\")\n",
    "except:\n",
    "    print(\"帳號不存在測試：失敗 ❌\")\n",
    "\n",
    "# 關閉瀏覽器\n",
    "driver.quit()\n"
   ]
  }
 ],
 "metadata": {
  "kernelspec": {
   "display_name": "base",
   "language": "python",
   "name": "python3"
  },
  "language_info": {
   "codemirror_mode": {
    "name": "ipython",
    "version": 3
   },
   "file_extension": ".py",
   "mimetype": "text/x-python",
   "name": "python",
   "nbconvert_exporter": "python",
   "pygments_lexer": "ipython3",
   "version": "3.9.12"
  }
 },
 "nbformat": 4,
 "nbformat_minor": 2
}
