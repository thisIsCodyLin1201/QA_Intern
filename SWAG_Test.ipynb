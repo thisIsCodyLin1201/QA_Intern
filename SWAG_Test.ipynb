{
 "cells": [
  {
   "cell_type": "code",
   "execution_count": 1,
   "metadata": {},
   "outputs": [
    {
     "name": "stdout",
     "output_type": "stream",
     "text": [
      "Collecting selenium\n",
      "  Downloading selenium-4.29.0-py3-none-any.whl (9.5 MB)\n",
      "Requirement already satisfied: certifi>=2021.10.8 in c:\\users\\cody9\\anaconda3\\lib\\site-packages (from selenium) (2021.10.8)\n",
      "Collecting typing_extensions~=4.9\n",
      "  Using cached typing_extensions-4.12.2-py3-none-any.whl (37 kB)\n",
      "Requirement already satisfied: urllib3[socks]<3,>=1.26 in c:\\users\\cody9\\anaconda3\\lib\\site-packages (from selenium) (1.26.9)\n",
      "Collecting trio-websocket~=0.9\n",
      "  Downloading trio_websocket-0.12.2-py3-none-any.whl (21 kB)\n",
      "Collecting websocket-client~=1.8\n",
      "  Downloading websocket_client-1.8.0-py3-none-any.whl (58 kB)\n",
      "Collecting trio~=0.17\n",
      "  Downloading trio-0.29.0-py3-none-any.whl (492 kB)\n",
      "Requirement already satisfied: cffi>=1.14 in c:\\users\\cody9\\anaconda3\\lib\\site-packages (from trio~=0.17->selenium) (1.15.0)\n",
      "Requirement already satisfied: sortedcontainers in c:\\users\\cody9\\anaconda3\\lib\\site-packages (from trio~=0.17->selenium) (2.4.0)\n",
      "Collecting attrs>=23.2.0\n",
      "  Downloading attrs-25.2.0-py3-none-any.whl (64 kB)\n",
      "Collecting sniffio>=1.3.0\n",
      "  Using cached sniffio-1.3.1-py3-none-any.whl (10 kB)\n",
      "Collecting exceptiongroup\n",
      "  Using cached exceptiongroup-1.2.2-py3-none-any.whl (16 kB)\n",
      "Requirement already satisfied: idna in c:\\users\\cody9\\anaconda3\\lib\\site-packages (from trio~=0.17->selenium) (3.3)\n",
      "Collecting outcome\n",
      "  Downloading outcome-1.3.0.post0-py2.py3-none-any.whl (10 kB)\n",
      "Requirement already satisfied: pycparser in c:\\users\\cody9\\anaconda3\\lib\\site-packages (from cffi>=1.14->trio~=0.17->selenium) (2.21)\n",
      "Collecting wsproto>=0.14\n",
      "  Downloading wsproto-1.2.0-py3-none-any.whl (24 kB)\n",
      "Requirement already satisfied: PySocks!=1.5.7,<2.0,>=1.5.6 in c:\\users\\cody9\\anaconda3\\lib\\site-packages (from urllib3[socks]<3,>=1.26->selenium) (1.7.1)\n",
      "Collecting h11<1,>=0.9.0\n",
      "  Using cached h11-0.14.0-py3-none-any.whl (58 kB)\n",
      "Installing collected packages: attrs, sniffio, outcome, h11, exceptiongroup, wsproto, trio, websocket-client, typing-extensions, trio-websocket, selenium\n",
      "  Attempting uninstall: attrs\n",
      "    Found existing installation: attrs 21.4.0\n",
      "    Uninstalling attrs-21.4.0:\n",
      "      Successfully uninstalled attrs-21.4.0\n",
      "  Attempting uninstall: sniffio\n",
      "    Found existing installation: sniffio 1.2.0\n",
      "    Uninstalling sniffio-1.2.0:\n",
      "      Successfully uninstalled sniffio-1.2.0\n",
      "  Attempting uninstall: websocket-client\n",
      "    Found existing installation: websocket-client 0.58.0\n",
      "    Uninstalling websocket-client-0.58.0:\n",
      "      Successfully uninstalled websocket-client-0.58.0\n",
      "  Attempting uninstall: typing-extensions\n",
      "    Found existing installation: typing-extensions 4.1.1\n",
      "    Uninstalling typing-extensions-4.1.1:\n",
      "      Successfully uninstalled typing-extensions-4.1.1\n",
      "Successfully installed attrs-25.2.0 exceptiongroup-1.2.2 h11-0.14.0 outcome-1.3.0.post0 selenium-4.29.0 sniffio-1.3.1 trio-0.29.0 trio-websocket-0.12.2 typing-extensions-4.12.2 websocket-client-1.8.0 wsproto-1.2.0\n",
      "Note: you may need to restart the kernel to use updated packages.\n"
     ]
    },
    {
     "name": "stderr",
     "output_type": "stream",
     "text": [
      "ERROR: pip's dependency resolver does not currently take into account all the packages that are installed. This behaviour is the source of the following dependency conflicts.\n",
      "jupyter-server 1.13.5 requires pywinpty<2; os_name == \"nt\", but you have pywinpty 2.0.2 which is incompatible.\n"
     ]
    }
   ],
   "source": [
    "%pip install selenium"
   ]
  },
  {
   "cell_type": "code",
   "execution_count": 2,
   "metadata": {},
   "outputs": [],
   "source": [
    "from selenium import webdriver\n",
    "from selenium.webdriver.common.by import By\n",
    "from selenium.webdriver.common.keys import Keys\n",
    "from selenium.webdriver.support.ui import WebDriverWait\n",
    "from selenium.webdriver.support import expected_conditions as EC\n",
    "import time"
   ]
  },
  {
   "cell_type": "code",
   "execution_count": 18,
   "metadata": {},
   "outputs": [
    {
     "name": "stdout",
     "output_type": "stream",
     "text": [
      "成功點擊 免費註冊/登入\n",
      "成功點擊 登入\n",
      "成功點擊 帳號密碼\n",
      "登入成功測試：通過 \n"
     ]
    }
   ],
   "source": [
    "# 設定 WebDriver\n",
    "driver = webdriver.Chrome()\n",
    "\n",
    "# 打開 SWAG 首頁\n",
    "driver.get(\"https://swag.live/?lang=zh-TW\")\n",
    "\n",
    "# 等待頁面\n",
    "time.sleep(3)\n",
    "\n",
    "# 第一步：點擊「免費註冊/登入」按鈕\n",
    "try:\n",
    "    login_signup_button = WebDriverWait(driver, 10).until(\n",
    "        EC.element_to_be_clickable((By.XPATH, \"//*[@id='modal-root']/div/div/div/div/div/div[2]/div[1]/header/button\"))\n",
    "    )\n",
    "    login_signup_button.click()\n",
    "    print(\"成功點擊 免費註冊/登入\")\n",
    "    time.sleep(2)\n",
    "except:\n",
    "    print(\"找不到 免費註冊/登入 按鈕\\n登入成功測試：失敗\")\n",
    "    driver.quit()\n",
    "    exit()\n",
    "\n",
    "# 第二步：點擊「登入」按鈕\n",
    "try:\n",
    "    login_button = WebDriverWait(driver, 10).until(\n",
    "        EC.element_to_be_clickable((By.XPATH, \"//*[@id='modal-root']/div[2]/div/div/div/div/div/span/div/main/div[1]/button[2]\"))\n",
    "    )\n",
    "    login_button.click()\n",
    "    print(\"成功點擊 登入\")\n",
    "    time.sleep(2)\n",
    "except:\n",
    "    print(\"找不到 登入 按鈕\\n登入成功測試：失敗\")\n",
    "    driver.quit()\n",
    "    exit()\n",
    "\n",
    "# 第三步：點擊「帳號密碼」登入方式\n",
    "try:\n",
    "    password_login_option = WebDriverWait(driver, 10).until(\n",
    "        EC.element_to_be_clickable((By.XPATH, \"//*[@id='modal-root']/div[2]/div/div/div/div/div/span/div/main/div[4]/div[1]/button\"))\n",
    "    )\n",
    "    driver.execute_script(\"arguments[0].click();\", password_login_option)\n",
    "    print(\"成功點擊 帳號密碼\")\n",
    "    time.sleep(2)\n",
    "except:\n",
    "    print(\"找不到 帳號密碼 按鈕\\n登入成功測試：失敗\")\n",
    "    driver.quit()\n",
    "    exit()\n",
    "\n",
    "# **Step 5: 輸入帳號與密碼**\n",
    "email_input = WebDriverWait(driver, 10).until(\n",
    "    EC.presence_of_element_located((By.XPATH, \"//*[@id='username-form']\"))\n",
    ")\n",
    "password_input = driver.find_element(By.XPATH, \"//*[@id='password-form']\")\n",
    "login_button = driver.find_element(By.XPATH, \"//*[@id='modal-root']/div[2]/div/div/div/div/div/span/div/main/div[2]/form/button\")\n",
    "\n",
    "email_input.send_keys(\"cody20031201@gmail.com\")  # 測試帳號\n",
    "password_input.send_keys(\"cody1201\")  # 測試密碼\n",
    "login_button.click()\n",
    "\n",
    "time.sleep(5)  # 等待登入處理\n",
    "\n",
    "# 第六步：驗證是否成功登入\n",
    "try:\n",
    "    success_element = driver.find_element(By.XPATH, \"/html/body/header/nav[2]/div[11]/div/div/button/div/div[1]/div/div[2]/div/div\")\n",
    "    print(\"登入成功測試：通過 \")\n",
    "except:\n",
    "    print(\"登入成功測試：失敗 \")\n",
    "\n",
    "# 關閉瀏覽器\n",
    "driver.quit()\n"
   ]
  }
 ],
 "metadata": {
  "kernelspec": {
   "display_name": "base",
   "language": "python",
   "name": "python3"
  },
  "language_info": {
   "codemirror_mode": {
    "name": "ipython",
    "version": 3
   },
   "file_extension": ".py",
   "mimetype": "text/x-python",
   "name": "python",
   "nbconvert_exporter": "python",
   "pygments_lexer": "ipython3",
   "version": "3.9.12"
  }
 },
 "nbformat": 4,
 "nbformat_minor": 2
}
